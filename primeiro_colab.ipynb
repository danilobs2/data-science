{
  "nbformat": 4,
  "nbformat_minor": 0,
  "metadata": {
    "colab": {
      "provenance": []
    },
    "kernelspec": {
      "name": "python3",
      "display_name": "Python 3"
    },
    "language_info": {
      "name": "python"
    }
  },
  "cells": [
    {
      "cell_type": "code",
      "execution_count": 1,
      "metadata": {
        "colab": {
          "base_uri": "https://localhost:8080/"
        },
        "id": "4IU_raTD3ByM",
        "outputId": "92cb801a-9654-4ffd-ccf9-f74da79d7c88"
      },
      "outputs": [
        {
          "output_type": "stream",
          "name": "stdout",
          "text": [
            "Olá mundo!\n"
          ]
        }
      ],
      "source": [
        "print(\"Olá mundo!\")"
      ]
    },
    {
      "cell_type": "code",
      "source": [
        "frase = \"Python para analise de dados\""
      ],
      "metadata": {
        "id": "YxuZ3JSX3n-E"
      },
      "execution_count": 2,
      "outputs": []
    },
    {
      "cell_type": "code",
      "source": [
        "# Substituindo um pedaço da frase\n",
        "# frase = frase.replace(\"Python\", \"PYTHON\")\n",
        "frase.replace(\"Python\", \"PYTHON\")"
      ],
      "metadata": {
        "colab": {
          "base_uri": "https://localhost:8080/",
          "height": 35
        },
        "id": "6t__I8064uOB",
        "outputId": "dd601d0f-b71d-435d-8d0d-6d54b838d0dd"
      },
      "execution_count": 9,
      "outputs": [
        {
          "output_type": "execute_result",
          "data": {
            "text/plain": [
              "'PYTHON para analise de dados'"
            ],
            "application/vnd.google.colaboratory.intrinsic+json": {
              "type": "string"
            }
          },
          "metadata": {},
          "execution_count": 9
        }
      ]
    }
  ]
}