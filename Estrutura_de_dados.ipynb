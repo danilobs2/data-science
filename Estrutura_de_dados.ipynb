{
  "nbformat": 4,
  "nbformat_minor": 0,
  "metadata": {
    "colab": {
      "provenance": [],
      "collapsed_sections": []
    },
    "kernelspec": {
      "name": "python3",
      "display_name": "Python 3"
    },
    "language_info": {
      "name": "python"
    }
  },
  "cells": [
    {
      "cell_type": "code",
      "source": [],
      "metadata": {
        "id": "GamiYsezUpZQ"
      },
      "execution_count": null,
      "outputs": []
    },
    {
      "cell_type": "markdown",
      "source": [
        "***LISTAS***"
      ],
      "metadata": {
        "id": "IjsE6p_tUwBL"
      }
    },
    {
      "cell_type": "code",
      "execution_count": 18,
      "metadata": {
        "colab": {
          "base_uri": "https://localhost:8080/"
        },
        "id": "hjnM8XhsCVmL",
        "outputId": "d02fed6f-76eb-4aa3-d86b-cc326b9bcc66"
      },
      "outputs": [
        {
          "output_type": "stream",
          "name": "stdout",
          "text": [
            "Reino animal\n",
            " vertebrados: ['ave', 'felino', 'mamiferos', 'repteis']\n"
          ]
        }
      ],
      "source": [
        "## Criando uma lista\n",
        "animais = [\"ave\", \"felino\",\"mamiferos\",\"repteis\"]\n",
        "print(f\"Reino animal\\n vertebrados: {animais}\")"
      ]
    },
    {
      "cell_type": "code",
      "source": [
        "listaDiversa = [\"Nome\", 564, 4.5]\n",
        "listaDiversa[1]"
      ],
      "metadata": {
        "colab": {
          "base_uri": "https://localhost:8080/"
        },
        "id": "ANYrjZM_OuF8",
        "outputId": "4daeba3c-df49-4568-aead-c7339bb87300"
      },
      "execution_count": 14,
      "outputs": [
        {
          "output_type": "execute_result",
          "data": {
            "text/plain": [
              "564"
            ]
          },
          "metadata": {},
          "execution_count": 14
        }
      ]
    },
    {
      "cell_type": "code",
      "source": [
        "# Substituindo elementos na lsita\n",
        "listaDiversa[0] = \"Sobrenome\"\n",
        "listaDiversa"
      ],
      "metadata": {
        "colab": {
          "base_uri": "https://localhost:8080/"
        },
        "id": "YtCyyJ08PWrz",
        "outputId": "d3e84f70-642c-4f4f-a355-bc4c983a19b8"
      },
      "execution_count": 15,
      "outputs": [
        {
          "output_type": "execute_result",
          "data": {
            "text/plain": [
              "['Sobrenome', 564, 4.5]"
            ]
          },
          "metadata": {},
          "execution_count": 15
        }
      ]
    },
    {
      "cell_type": "code",
      "source": [
        "# Removendo numero da lista\n",
        "animais.remove(\"ave\")"
      ],
      "metadata": {
        "id": "bzWhgKipP8Fb"
      },
      "execution_count": 20,
      "outputs": []
    },
    {
      "cell_type": "code",
      "source": [
        "animais"
      ],
      "metadata": {
        "colab": {
          "base_uri": "https://localhost:8080/"
        },
        "id": "_pC2Oq0kQrA6",
        "outputId": "5e121334-fe1d-4efa-8341-133046ea2cf9"
      },
      "execution_count": 21,
      "outputs": [
        {
          "output_type": "execute_result",
          "data": {
            "text/plain": [
              "['felino', 'mamiferos', 'repteis']"
            ]
          },
          "metadata": {},
          "execution_count": 21
        }
      ]
    },
    {
      "cell_type": "code",
      "source": [
        "# Tamanho da lista\n",
        "print(\"Tamanho da lista animais:\",len(animais))"
      ],
      "metadata": {
        "colab": {
          "base_uri": "https://localhost:8080/"
        },
        "id": "1TriFmuPQtXv",
        "outputId": "37301f02-2346-450b-f2d7-f3c7d8ba5b59"
      },
      "execution_count": 28,
      "outputs": [
        {
          "output_type": "stream",
          "name": "stdout",
          "text": [
            "Tamanho da lista animais: 3\n"
          ]
        }
      ]
    },
    {
      "cell_type": "code",
      "source": [
        "# verificando se o elemento faz parte da lista\n",
        "\"mamiferu\" in animais"
      ],
      "metadata": {
        "colab": {
          "base_uri": "https://localhost:8080/"
        },
        "id": "0D-fIVo-QtjO",
        "outputId": "de553343-03b7-4725-f725-84f2e9444c37"
      },
      "execution_count": 30,
      "outputs": [
        {
          "output_type": "execute_result",
          "data": {
            "text/plain": [
              "False"
            ]
          },
          "metadata": {},
          "execution_count": 30
        }
      ]
    },
    {
      "cell_type": "code",
      "source": [
        "listaNumeros = [222, 5, 6, 76, 200]"
      ],
      "metadata": {
        "id": "2AOkY9dMRAzE"
      },
      "execution_count": 51,
      "outputs": []
    },
    {
      "cell_type": "code",
      "source": [
        "# item com o valor maior na lista\n",
        "max(listaNumeros)"
      ],
      "metadata": {
        "colab": {
          "base_uri": "https://localhost:8080/"
        },
        "id": "SOfVwYeySUcg",
        "outputId": "c6c782cd-42e9-4e63-b860-bd0b94095ebb"
      },
      "execution_count": 37,
      "outputs": [
        {
          "output_type": "execute_result",
          "data": {
            "text/plain": [
              "222"
            ]
          },
          "metadata": {},
          "execution_count": 37
        }
      ]
    },
    {
      "cell_type": "code",
      "source": [
        "# item com o valor menor na lista\n",
        "min(listaNumeros)"
      ],
      "metadata": {
        "colab": {
          "base_uri": "https://localhost:8080/"
        },
        "id": "1wUYLVmCSUos",
        "outputId": "62d5ea82-ae13-44d0-f5da-713a8b529f78"
      },
      "execution_count": 38,
      "outputs": [
        {
          "output_type": "execute_result",
          "data": {
            "text/plain": [
              "5"
            ]
          },
          "metadata": {},
          "execution_count": 38
        }
      ]
    },
    {
      "cell_type": "code",
      "source": [
        "# adicionando item na lista\n",
        "listaNumeros.append(2022)"
      ],
      "metadata": {
        "id": "-x1M2DsATZiM"
      },
      "execution_count": 52,
      "outputs": []
    },
    {
      "cell_type": "code",
      "source": [
        "listaNumeros"
      ],
      "metadata": {
        "colab": {
          "base_uri": "https://localhost:8080/"
        },
        "id": "1FTVczlKTZmH",
        "outputId": "83fdd3aa-34fe-45c1-89cc-cccf9f787ec6"
      },
      "execution_count": 53,
      "outputs": [
        {
          "output_type": "execute_result",
          "data": {
            "text/plain": [
              "[222, 5, 6, 76, 200, 2022]"
            ]
          },
          "metadata": {},
          "execution_count": 53
        }
      ]
    },
    {
      "cell_type": "code",
      "source": [
        "# adicionando na lista mais de um item\n",
        "listaNumeros.extend([0, 2023])"
      ],
      "metadata": {
        "id": "e1qXDOLGTtEh"
      },
      "execution_count": 54,
      "outputs": []
    },
    {
      "cell_type": "code",
      "source": [
        "listaNumeros"
      ],
      "metadata": {
        "colab": {
          "base_uri": "https://localhost:8080/"
        },
        "outputId": "95624344-323a-4ce7-c9a8-fb0557b1c40b",
        "id": "qcOF7WtVUYPZ"
      },
      "execution_count": 55,
      "outputs": [
        {
          "output_type": "execute_result",
          "data": {
            "text/plain": [
              "[222, 5, 6, 76, 200, 2022, 0, 2023]"
            ]
          },
          "metadata": {},
          "execution_count": 55
        }
      ]
    },
    {
      "cell_type": "code",
      "source": [
        "# Quantas vezes aparece o numero 6\n",
        "listaNumeros.count(6)"
      ],
      "metadata": {
        "colab": {
          "base_uri": "https://localhost:8080/"
        },
        "id": "i5GvyaQWT1nM",
        "outputId": "09302b8e-ef8a-4027-ebd6-197b00067498"
      },
      "execution_count": 56,
      "outputs": [
        {
          "output_type": "execute_result",
          "data": {
            "text/plain": [
              "1"
            ]
          },
          "metadata": {},
          "execution_count": 56
        }
      ]
    },
    {
      "cell_type": "code",
      "source": [
        "# Ordenando a lista do maior para o menor\n",
        "listaNumeros.sort()\n",
        "listaNumeros"
      ],
      "metadata": {
        "colab": {
          "base_uri": "https://localhost:8080/"
        },
        "id": "1Xqm4yX_T1pu",
        "outputId": "101ad869-9e78-4606-8477-fba1d9687e7d"
      },
      "execution_count": 58,
      "outputs": [
        {
          "output_type": "execute_result",
          "data": {
            "text/plain": [
              "[0, 5, 6, 76, 200, 222, 2022, 2023]"
            ]
          },
          "metadata": {},
          "execution_count": 58
        }
      ]
    },
    {
      "cell_type": "markdown",
      "source": [
        "**Tuplas**"
      ],
      "metadata": {
        "id": "i6nIC04EWgEc"
      }
    },
    {
      "cell_type": "code",
      "source": [
        "#  AS TUPLAS UTILIZAM PARENTESES COMO SINTAXE\n",
        "tuplaCelulares = (\"Nokia\", \"Samsung\", \"LG\", \"Alcatel\")\n"
      ],
      "metadata": {
        "id": "WP6ALrg2TtH5"
      },
      "execution_count": 60,
      "outputs": []
    },
    {
      "cell_type": "code",
      "source": [
        "# Exibindo o 3 elemento\n",
        "tuplaCelulares[3]"
      ],
      "metadata": {
        "colab": {
          "base_uri": "https://localhost:8080/",
          "height": 35
        },
        "id": "lfzRULWTWjm3",
        "outputId": "58ad830e-48cb-4e2d-fe17-5b6b1ba4d87a"
      },
      "execution_count": 61,
      "outputs": [
        {
          "output_type": "execute_result",
          "data": {
            "text/plain": [
              "'Alcatel'"
            ],
            "application/vnd.google.colaboratory.intrinsic+json": {
              "type": "string"
            }
          },
          "metadata": {},
          "execution_count": 61
        }
      ]
    },
    {
      "cell_type": "code",
      "source": [
        "# Diferente das listas as tuplas são imutaveis, o que quer dizer que não podemos alterar os seus elementos\n",
        "tuplaCelulares[3] = \"Positivo\""
      ],
      "metadata": {
        "id": "7yLRL1jQWjqF"
      },
      "execution_count": null,
      "outputs": []
    },
    {
      "cell_type": "code",
      "source": [
        "tuplaCelulares.count(\"Positivo\")"
      ],
      "metadata": {
        "colab": {
          "base_uri": "https://localhost:8080/"
        },
        "id": "vzkI-VtPX1ol",
        "outputId": "7f92cb26-7aa1-47d3-eb6a-df9b711e808c"
      },
      "execution_count": 63,
      "outputs": [
        {
          "output_type": "execute_result",
          "data": {
            "text/plain": [
              "0"
            ]
          },
          "metadata": {},
          "execution_count": 63
        }
      ]
    },
    {
      "cell_type": "code",
      "source": [
        "tuplaCelulares[0:2]"
      ],
      "metadata": {
        "colab": {
          "base_uri": "https://localhost:8080/"
        },
        "id": "QGpCJ-NxX1bB",
        "outputId": "ada6ae9a-7d17-443d-b628-05f777ccf6d9"
      },
      "execution_count": 64,
      "outputs": [
        {
          "output_type": "execute_result",
          "data": {
            "text/plain": [
              "('Nokia', 'Samsung')"
            ]
          },
          "metadata": {},
          "execution_count": 64
        }
      ]
    },
    {
      "cell_type": "markdown",
      "source": [
        "**Dicionario**"
      ],
      "metadata": {
        "id": "UhdouZajZNG0"
      }
    },
    {
      "cell_type": "code",
      "source": [
        "# Para criar dicionarios utilize {}\n",
        "dados = {\"Nome\":\"Maria\",\"idade\":29,\"Sexo\":\"Feminino\"}"
      ],
      "metadata": {
        "id": "KjWdO6iGX1Yw"
      },
      "execution_count": 65,
      "outputs": []
    },
    {
      "cell_type": "code",
      "source": [
        "dados"
      ],
      "metadata": {
        "colab": {
          "base_uri": "https://localhost:8080/"
        },
        "id": "W3GWa-AbX1Jt",
        "outputId": "c5fd03bc-c94f-4edb-bd41-76ff3c3b96f2"
      },
      "execution_count": 66,
      "outputs": [
        {
          "output_type": "execute_result",
          "data": {
            "text/plain": [
              "{'Nome': 'Maria', 'idade': 29, 'Sexo': 'Feminino'}"
            ]
          },
          "metadata": {},
          "execution_count": 66
        }
      ]
    },
    {
      "cell_type": "code",
      "source": [
        "#Acessando o valor de um dicionário através da chave\n",
        "dados[\"idade\"]"
      ],
      "metadata": {
        "colab": {
          "base_uri": "https://localhost:8080/"
        },
        "id": "bmVpars0X09f",
        "outputId": "0c33d68c-203e-44dc-85ef-9016f1dde6e5"
      },
      "execution_count": 67,
      "outputs": [
        {
          "output_type": "execute_result",
          "data": {
            "text/plain": [
              "29"
            ]
          },
          "metadata": {},
          "execution_count": 67
        }
      ]
    },
    {
      "cell_type": "code",
      "source": [
        "# Atualizando o valor de um item\n",
        "dados[\"Sexo\"] = \"Não informado\""
      ],
      "metadata": {
        "id": "vB2kouEKZoh9"
      },
      "execution_count": 69,
      "outputs": []
    },
    {
      "cell_type": "code",
      "source": [
        "dados"
      ],
      "metadata": {
        "colab": {
          "base_uri": "https://localhost:8080/"
        },
        "id": "kdvOZlJfZomA",
        "outputId": "87e17452-d49d-4926-ad52-77ec3c14d230"
      },
      "execution_count": 70,
      "outputs": [
        {
          "output_type": "execute_result",
          "data": {
            "text/plain": [
              "{'Nome': 'Maria', 'idade': 29, 'Sexo': 'Não informado'}"
            ]
          },
          "metadata": {},
          "execution_count": 70
        }
      ]
    },
    {
      "cell_type": "code",
      "source": [
        "# Retornando toda as chaves do dicionario\n",
        "dados.keys()"
      ],
      "metadata": {
        "colab": {
          "base_uri": "https://localhost:8080/"
        },
        "id": "JgYjFXzyZoq8",
        "outputId": "7622fd45-0ef6-4199-e7e3-6c6b278bfb66"
      },
      "execution_count": 71,
      "outputs": [
        {
          "output_type": "execute_result",
          "data": {
            "text/plain": [
              "dict_keys(['Nome', 'idade', 'Sexo'])"
            ]
          },
          "metadata": {},
          "execution_count": 71
        }
      ]
    },
    {
      "cell_type": "code",
      "source": [
        "# Retornando os valores do dicionario\n",
        "dados.values()"
      ],
      "metadata": {
        "colab": {
          "base_uri": "https://localhost:8080/"
        },
        "id": "F6dTSZBbaVjw",
        "outputId": "fc216115-7d20-48c3-9826-9a184e394ab3"
      },
      "execution_count": 72,
      "outputs": [
        {
          "output_type": "execute_result",
          "data": {
            "text/plain": [
              "dict_values(['Maria', 29, 'Não informado'])"
            ]
          },
          "metadata": {},
          "execution_count": 72
        }
      ]
    },
    {
      "cell_type": "code",
      "source": [
        "# Verificando se já existe uma chave no dicionario e caso não exista inserir\n",
        "dados.setdefault(\"Estado Civil\",\"Noiva\")"
      ],
      "metadata": {
        "colab": {
          "base_uri": "https://localhost:8080/",
          "height": 35
        },
        "id": "4LTS_UypaVsx",
        "outputId": "f0cbd86b-19a2-41ed-dd26-88b2a68ec16a"
      },
      "execution_count": 74,
      "outputs": [
        {
          "output_type": "execute_result",
          "data": {
            "text/plain": [
              "'Noiva'"
            ],
            "application/vnd.google.colaboratory.intrinsic+json": {
              "type": "string"
            }
          },
          "metadata": {},
          "execution_count": 74
        }
      ]
    },
    {
      "cell_type": "code",
      "source": [
        "dados"
      ],
      "metadata": {
        "colab": {
          "base_uri": "https://localhost:8080/"
        },
        "id": "zX0CVFAZaVxn",
        "outputId": "1483de86-78f9-4c23-84ed-dac7e2dd2179"
      },
      "execution_count": 75,
      "outputs": [
        {
          "output_type": "execute_result",
          "data": {
            "text/plain": [
              "{'Nome': 'Maria',\n",
              " 'idade': 29,\n",
              " 'Sexo': 'Não informado',\n",
              " 'Estado Civil': 'Noiva'}"
            ]
          },
          "metadata": {},
          "execution_count": 75
        }
      ]
    },
    {
      "cell_type": "code",
      "source": [],
      "metadata": {
        "id": "C0EhQiJ4aV3I"
      },
      "execution_count": null,
      "outputs": []
    }
  ]
}